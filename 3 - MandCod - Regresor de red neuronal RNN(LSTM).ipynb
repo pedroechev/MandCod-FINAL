{
 "cells": [
  {
   "cell_type": "code",
   "execution_count": 1,
   "id": "38e4b71b",
   "metadata": {
    "id": "38e4b71b"
   },
   "outputs": [],
   "source": [
    "import pandas as pd\n",
    "import numpy as np\n",
    "import matplotlib.pyplot as plt"
   ]
  },
  {
   "cell_type": "code",
   "execution_count": 2,
   "id": "2ae8b322",
   "metadata": {},
   "outputs": [
    {
     "data": {
      "text/html": [
       "<div>\n",
       "<style scoped>\n",
       "    .dataframe tbody tr th:only-of-type {\n",
       "        vertical-align: middle;\n",
       "    }\n",
       "\n",
       "    .dataframe tbody tr th {\n",
       "        vertical-align: top;\n",
       "    }\n",
       "\n",
       "    .dataframe thead th {\n",
       "        text-align: right;\n",
       "    }\n",
       "</style>\n",
       "<table border=\"1\" class=\"dataframe\">\n",
       "  <thead>\n",
       "    <tr style=\"text-align: right;\">\n",
       "      <th></th>\n",
       "      <th>Promedio de precio mensual mayorista</th>\n",
       "    </tr>\n",
       "    <tr>\n",
       "      <th>Fecha</th>\n",
       "      <th></th>\n",
       "    </tr>\n",
       "  </thead>\n",
       "  <tbody>\n",
       "    <tr>\n",
       "      <th>2017-01-01</th>\n",
       "      <td>2500</td>\n",
       "    </tr>\n",
       "    <tr>\n",
       "      <th>2017-02-01</th>\n",
       "      <td>3375</td>\n",
       "    </tr>\n",
       "    <tr>\n",
       "      <th>2017-03-01</th>\n",
       "      <td>3075</td>\n",
       "    </tr>\n",
       "    <tr>\n",
       "      <th>2017-04-01</th>\n",
       "      <td>2650</td>\n",
       "    </tr>\n",
       "    <tr>\n",
       "      <th>2017-05-01</th>\n",
       "      <td>2450</td>\n",
       "    </tr>\n",
       "  </tbody>\n",
       "</table>\n",
       "</div>"
      ],
      "text/plain": [
       "            Promedio de precio mensual mayorista\n",
       "Fecha                                           \n",
       "2017-01-01                                  2500\n",
       "2017-02-01                                  3375\n",
       "2017-03-01                                  3075\n",
       "2017-04-01                                  2650\n",
       "2017-05-01                                  2450"
      ]
     },
     "execution_count": 2,
     "metadata": {},
     "output_type": "execute_result"
    }
   ],
   "source": [
    "path = 'Datos/Precios Mandarina Oneco.xlsx'\n",
    "\n",
    "df = pd.read_excel(path,\n",
    "              index_col='Fecha',\n",
    "              parse_dates=True\n",
    "             )\n",
    "df.index.freq='MS'\n",
    "\n",
    "\n",
    "df.head()"
   ]
  },
  {
   "cell_type": "code",
   "execution_count": 3,
   "id": "3dc938e2",
   "metadata": {
    "colab": {
     "base_uri": "https://localhost:8080/",
     "height": 235
    },
    "id": "3dc938e2",
    "outputId": "31ad31bc-8bb5-4f1a-ee35-2798957a91cf"
   },
   "outputs": [
    {
     "data": {
      "text/html": [
       "<div>\n",
       "<style scoped>\n",
       "    .dataframe tbody tr th:only-of-type {\n",
       "        vertical-align: middle;\n",
       "    }\n",
       "\n",
       "    .dataframe tbody tr th {\n",
       "        vertical-align: top;\n",
       "    }\n",
       "\n",
       "    .dataframe thead th {\n",
       "        text-align: right;\n",
       "    }\n",
       "</style>\n",
       "<table border=\"1\" class=\"dataframe\">\n",
       "  <thead>\n",
       "    <tr style=\"text-align: right;\">\n",
       "      <th></th>\n",
       "      <th>precio_COP</th>\n",
       "    </tr>\n",
       "    <tr>\n",
       "      <th>Fecha</th>\n",
       "      <th></th>\n",
       "    </tr>\n",
       "  </thead>\n",
       "  <tbody>\n",
       "    <tr>\n",
       "      <th>2017-01-01</th>\n",
       "      <td>2500</td>\n",
       "    </tr>\n",
       "    <tr>\n",
       "      <th>2017-02-01</th>\n",
       "      <td>3375</td>\n",
       "    </tr>\n",
       "    <tr>\n",
       "      <th>2017-03-01</th>\n",
       "      <td>3075</td>\n",
       "    </tr>\n",
       "    <tr>\n",
       "      <th>2017-04-01</th>\n",
       "      <td>2650</td>\n",
       "    </tr>\n",
       "    <tr>\n",
       "      <th>2017-05-01</th>\n",
       "      <td>2450</td>\n",
       "    </tr>\n",
       "  </tbody>\n",
       "</table>\n",
       "</div>"
      ],
      "text/plain": [
       "            precio_COP\n",
       "Fecha                 \n",
       "2017-01-01        2500\n",
       "2017-02-01        3375\n",
       "2017-03-01        3075\n",
       "2017-04-01        2650\n",
       "2017-05-01        2450"
      ]
     },
     "execution_count": 3,
     "metadata": {},
     "output_type": "execute_result"
    }
   ],
   "source": [
    "# Defino Variables\n",
    "\n",
    "df.rename(columns = {'Promedio de precio mensual mayorista': 'precio_COP'}, inplace = True)\n",
    "df.head()"
   ]
  },
  {
   "cell_type": "code",
   "execution_count": 4,
   "id": "2813c326",
   "metadata": {
    "colab": {
     "base_uri": "https://localhost:8080/",
     "height": 405
    },
    "id": "2813c326",
    "outputId": "9c58f97e-4530-438d-ccdb-d9e7fa92e83b",
    "scrolled": false
   },
   "outputs": [
    {
     "data": {
      "text/plain": [
       "<AxesSubplot:xlabel='Fecha'>"
      ]
     },
     "execution_count": 4,
     "metadata": {},
     "output_type": "execute_result"
    },
    {
     "data": {
      "image/png": "[encoded data removed]",
      "text/plain": [
       "<Figure size 864x432 with 1 Axes>"
      ]
     },
     "metadata": {
      "needs_background": "light"
     },
     "output_type": "display_data"
    }
   ],
   "source": [
    "df.plot(figsize=(12,6))"
   ]
  },
  {
   "cell_type": "code",
   "execution_count": 5,
   "id": "8dabd211",
   "metadata": {
    "colab": {
     "base_uri": "https://localhost:8080/"
    },
    "id": "8dabd211",
    "outputId": "7dccfba8-0546-406e-c354-e2fad478bc71"
   },
   "outputs": [],
   "source": [
    "from statsmodels.tsa.seasonal import seasonal_decompose"
   ]
  },
  {
   "cell_type": "code",
   "execution_count": 6,
   "id": "52dc2596",
   "metadata": {
    "colab": {
     "base_uri": "https://localhost:8080/",
     "height": 297
    },
    "id": "52dc2596",
    "outputId": "8210e5ef-d521-4c77-e89a-a42d922eab21"
   },
   "outputs": [
    {
     "data": {
      "image/png": "[encoded data removed]",
      "text/plain": [
       "<Figure size 432x288 with 4 Axes>"
      ]
     },
     "metadata": {
      "needs_background": "light"
     },
     "output_type": "display_data"
    }
   ],
   "source": [
    "results = seasonal_decompose(df['precio_COP'])\n",
    "results.plot();"
   ]
  },
  {
   "cell_type": "markdown",
   "id": "4f09a614",
   "metadata": {
    "id": "4f09a614"
   },
   "source": [
    "No vamos a convertir la serie en estacionaria porque en teoría las predicciones de RNN se pueden adaptar a este patrón, y a diferentes tipos de patrones complejos, que otros modelos más simples no adaptarían."
   ]
  },
  {
   "cell_type": "code",
   "execution_count": 7,
   "id": "3409680a",
   "metadata": {
    "colab": {
     "base_uri": "https://localhost:8080/"
    },
    "id": "3409680a",
    "outputId": "0244f7e2-6863-4e7a-b7a1-958b903f2046",
    "scrolled": true
   },
   "outputs": [
    {
     "data": {
      "text/plain": [
       "55"
      ]
     },
     "execution_count": 7,
     "metadata": {},
     "output_type": "execute_result"
    }
   ],
   "source": [
    "len(df)"
   ]
  },
  {
   "cell_type": "code",
   "execution_count": 8,
   "id": "6749728a",
   "metadata": {
    "id": "6749728a"
   },
   "outputs": [],
   "source": [
    "train = df.iloc[:45] \n",
    "#La parte de entrenamiento van a ser todos los datos excepto últimos 10 meses\n",
    "\n",
    "test =df.iloc[45:]"
   ]
  },
  {
   "cell_type": "code",
   "execution_count": 9,
   "id": "4d4101f6",
   "metadata": {
    "id": "4d4101f6"
   },
   "outputs": [],
   "source": [
    "from sklearn.preprocessing import MinMaxScaler\n",
    "scaler = MinMaxScaler()\n",
    "\n",
    "# Con esta herramienta, convertimos la serie en una escala de 0 a 1\n",
    "\n"
   ]
  },
  {
   "cell_type": "code",
   "execution_count": 10,
   "id": "27c922f3",
   "metadata": {
    "colab": {
     "base_uri": "https://localhost:8080/"
    },
    "id": "27c922f3",
    "outputId": "38ee3869-6578-4ed0-f498-cdfd133c4650",
    "scrolled": false
   },
   "outputs": [
    {
     "data": {
      "text/plain": [
       "(            precio_COP\n",
       " Fecha                 \n",
       " 2017-01-01        2500\n",
       " 2017-02-01        3375\n",
       " 2017-03-01        3075\n",
       " 2017-04-01        2650\n",
       " 2017-05-01        2450,\n",
       "             precio_COP\n",
       " Fecha                 \n",
       " 2021-03-01        2400\n",
       " 2021-04-01        2000\n",
       " 2021-05-01        2600\n",
       " 2021-06-01        3600\n",
       " 2021-07-01        4000)"
      ]
     },
     "execution_count": 10,
     "metadata": {},
     "output_type": "execute_result"
    }
   ],
   "source": [
    "df.head(),df.tail() #Vemos como son los datos."
   ]
  },
  {
   "cell_type": "code",
   "execution_count": 11,
   "id": "d7c6f9bb",
   "metadata": {
    "colab": {
     "base_uri": "https://localhost:8080/"
    },
    "id": "d7c6f9bb",
    "outputId": "8395b192-44bd-4342-a4d1-db5144d451c5"
   },
   "outputs": [
    {
     "data": {
      "text/plain": [
       "array([[0.48275862],\n",
       "       [0.78448276],\n",
       "       [0.68103448],\n",
       "       [0.53448276],\n",
       "       [0.46551724],\n",
       "       [0.40517241],\n",
       "       [0.52586207],\n",
       "       [0.37931034],\n",
       "       [0.13793103],\n",
       "       [0.0862069 ]])"
      ]
     },
     "execution_count": 11,
     "metadata": {},
     "output_type": "execute_result"
    }
   ],
   "source": [
    "# Tranformamos la serie de entrenamiento y testeo\n",
    "# Vemos como quedan los primeros 10 datos de entrenamiento.\n",
    "\n",
    "scaler.fit(train)\n",
    "scaled_train = scaler.transform(train)\n",
    "scaled_test = scaler.transform(test)\n",
    "scaled_train[:10]"
   ]
  },
  {
   "cell_type": "code",
   "execution_count": 12,
   "id": "6b6e83ff",
   "metadata": {
    "id": "6b6e83ff"
   },
   "outputs": [
    {
     "name": "stdout",
     "output_type": "stream",
     "text": [
      "Init Plugin\n",
      "Init Graph Optimizer\n",
      "Init Kernel\n"
     ]
    }
   ],
   "source": [
    "from keras.preprocessing.sequence import TimeseriesGenerator"
   ]
  },
  {
   "cell_type": "code",
   "execution_count": 13,
   "id": "9340ba20",
   "metadata": {
    "id": "9340ba20"
   },
   "outputs": [],
   "source": [
    "# Definimos generador\n",
    "# Al estar hablando de modelos supervisados, debemos decirle al modelo cuales son los input y cuales son los output\n",
    "\n",
    "\n",
    "n_input = 3 # Este número son los meses de \"entrenemiento\"\n",
    "n_features = 1 # Este es el número de series implementadas, en este caso solo es una (Precio_COP)\n",
    "\n",
    "generator = TimeseriesGenerator(scaled_train, scaled_train, length=n_input, batch_size=1)\n"
   ]
  },
  {
   "cell_type": "code",
   "execution_count": 14,
   "id": "-XG0Tj4KgfB8",
   "metadata": {
    "colab": {
     "base_uri": "https://localhost:8080/"
    },
    "id": "-XG0Tj4KgfB8",
    "outputId": "3b6c6c10-109c-4192-d9e4-5d74183d2d5b",
    "scrolled": true
   },
   "outputs": [
    {
     "name": "stdout",
     "output_type": "stream",
     "text": [
      "Dado el Array: \n",
      "[0.48275862 0.78448276 0.68103448]\n",
      "Predice esta y: \n",
      " [[0.53448276]]\n"
     ]
    }
   ],
   "source": [
    "X,y = generator[0]\n",
    "print(f'Dado el Array: \\n{X.flatten()}')\n",
    "print(f'Predice esta y: \\n {y}')"
   ]
  },
  {
   "cell_type": "code",
   "execution_count": 15,
   "id": "mcAwHS4mghJs",
   "metadata": {
    "colab": {
     "base_uri": "https://localhost:8080/"
    },
    "id": "mcAwHS4mghJs",
    "outputId": "e102bc9a-3892-4ad3-d93c-0258eac53ac1"
   },
   "outputs": [
    {
     "data": {
      "text/plain": [
       "(1, 3, 1)"
      ]
     },
     "execution_count": 15,
     "metadata": {},
     "output_type": "execute_result"
    }
   ],
   "source": [
    "X.shape"
   ]
  },
  {
   "cell_type": "code",
   "execution_count": 16,
   "id": "dM3HtRqMg7Zt",
   "metadata": {
    "id": "dM3HtRqMg7Zt"
   },
   "outputs": [],
   "source": [
    "# Hacemos lo mismo, pero esta vez con 12 meses\n",
    "\n",
    "n_input = 12\n",
    "generator = TimeseriesGenerator(scaled_train, scaled_train, length=n_input, batch_size=1)"
   ]
  },
  {
   "cell_type": "code",
   "execution_count": 17,
   "id": "CjoJOhANhAlb",
   "metadata": {
    "id": "CjoJOhANhAlb"
   },
   "outputs": [],
   "source": [
    "from keras.models import Sequential\n",
    "from keras.layers import Dense\n",
    "from keras.layers import LSTM"
   ]
  },
  {
   "cell_type": "code",
   "execution_count": 18,
   "id": "2ueumxshhCGM",
   "metadata": {
    "id": "2ueumxshhCGM"
   },
   "outputs": [
    {
     "name": "stdout",
     "output_type": "stream",
     "text": [
      "Metal device set to: Apple M1\n",
      "WARNING:tensorflow:Layer lstm will not use cuDNN kernels since it doesn't meet the criteria. It will use a generic GPU kernel as fallback when running on GPU.\n"
     ]
    },
    {
     "name": "stderr",
     "output_type": "stream",
     "text": [
      "2021-11-21 16:29:36.356534: I tensorflow/core/common_runtime/pluggable_device/pluggable_device_factory.cc:305] Could not identify NUMA node of platform GPU ID 0, defaulting to 0. Your kernel may not have been built with NUMA support.\n",
      "2021-11-21 16:29:36.357001: I tensorflow/core/common_runtime/pluggable_device/pluggable_device_factory.cc:271] Created TensorFlow device (/job:localhost/replica:0/task:0/device:GPU:0 with 0 MB memory) -> physical PluggableDevice (device: 0, name: METAL, pci bus id: <undefined>)\n"
     ]
    }
   ],
   "source": [
    "# define model\n",
    "model = Sequential()\n",
    "model.add(LSTM(100,  # Vamos a usar 100 neuronas\n",
    "               activation='relu', # La funcion de activación que vamos a usar es \"relu\"\n",
    "               input_shape=(n_input, n_features)))\n",
    "model.add(Dense(1))\n",
    "model.compile(optimizer='adam', loss='mse')"
   ]
  },
  {
   "cell_type": "code",
   "execution_count": 19,
   "id": "HYO190nThDyT",
   "metadata": {
    "colab": {
     "base_uri": "https://localhost:8080/"
    },
    "id": "HYO190nThDyT",
    "outputId": "d9e6dd7e-2c41-4bc0-8f9f-2b11abc8227a",
    "scrolled": true
   },
   "outputs": [
    {
     "name": "stdout",
     "output_type": "stream",
     "text": [
      "Model: \"sequential\"\n",
      "_________________________________________________________________\n",
      "Layer (type)                 Output Shape              Param #   \n",
      "=================================================================\n",
      "lstm (LSTM)                  (None, 100)               40800     \n",
      "_________________________________________________________________\n",
      "dense (Dense)                (None, 1)                 101       \n",
      "=================================================================\n",
      "Total params: 40,901\n",
      "Trainable params: 40,901\n",
      "Non-trainable params: 0\n",
      "_________________________________________________________________\n"
     ]
    }
   ],
   "source": [
    "model.summary()"
   ]
  },
  {
   "cell_type": "code",
   "execution_count": 20,
   "id": "8cs-grrbhHF2",
   "metadata": {
    "colab": {
     "base_uri": "https://localhost:8080/"
    },
    "id": "8cs-grrbhHF2",
    "outputId": "69970278-30fa-4199-d414-08a9ecf4b63b",
    "scrolled": true
   },
   "outputs": [
    {
     "name": "stdout",
     "output_type": "stream",
     "text": [
      "Epoch 1/50\n"
     ]
    },
    {
     "name": "stderr",
     "output_type": "stream",
     "text": [
      "2021-11-21 16:29:36.465523: I tensorflow/compiler/mlir/mlir_graph_optimization_pass.cc:176] None of the MLIR Optimization Passes are enabled (registered 2)\n",
      "2021-11-21 16:29:36.466935: W tensorflow/core/platform/profile_utils/cpu_utils.cc:128] Failed to get CPU frequency: 0 Hz\n",
      "2021-11-21 16:29:45.180782: I tensorflow/core/grappler/optimizers/custom_graph_optimizer_registry.cc:112] Plugin optimizer for device_type GPU is enabled.\n"
     ]
    },
    {
     "name": "stdout",
     "output_type": "stream",
     "text": [
      "33/33 [==============================] - 13s 132ms/step - loss: 0.1452\n",
      "Epoch 2/50\n",
      "33/33 [==============================] - 4s 127ms/step - loss: 0.0589\n",
      "Epoch 3/50\n",
      "33/33 [==============================] - 4s 125ms/step - loss: 0.0589\n",
      "Epoch 4/50\n",
      "33/33 [==============================] - 4s 126ms/step - loss: 0.0815\n",
      "Epoch 5/50\n",
      "33/33 [==============================] - 4s 133ms/step - loss: 0.0441\n",
      "Epoch 6/50\n",
      "33/33 [==============================] - 4s 126ms/step - loss: 0.0547\n",
      "Epoch 7/50\n",
      "33/33 [==============================] - 4s 126ms/step - loss: 0.0707\n",
      "Epoch 8/50\n",
      "33/33 [==============================] - 4s 125ms/step - loss: 0.0568\n",
      "Epoch 9/50\n",
      "33/33 [==============================] - 4s 126ms/step - loss: 0.0438\n",
      "Epoch 10/50\n",
      "33/33 [==============================] - 4s 126ms/step - loss: 0.0788\n",
      "Epoch 11/50\n",
      "33/33 [==============================] - 4s 126ms/step - loss: 0.0587\n",
      "Epoch 12/50\n",
      "33/33 [==============================] - 4s 126ms/step - loss: 0.0632\n",
      "Epoch 13/50\n",
      "33/33 [==============================] - 4s 126ms/step - loss: 0.0521\n",
      "Epoch 14/50\n",
      "33/33 [==============================] - 4s 126ms/step - loss: 0.0545\n",
      "Epoch 15/50\n",
      "33/33 [==============================] - 4s 125ms/step - loss: 0.0529\n",
      "Epoch 16/50\n",
      "33/33 [==============================] - 4s 125ms/step - loss: 0.0332\n",
      "Epoch 17/50\n",
      "33/33 [==============================] - 4s 126ms/step - loss: 0.0421\n",
      "Epoch 18/50\n",
      "33/33 [==============================] - 4s 126ms/step - loss: 0.0501\n",
      "Epoch 19/50\n",
      "33/33 [==============================] - 4s 126ms/step - loss: 0.0450\n",
      "Epoch 20/50\n",
      "33/33 [==============================] - 4s 126ms/step - loss: 0.0470\n",
      "Epoch 21/50\n",
      "33/33 [==============================] - 4s 125ms/step - loss: 0.0366\n",
      "Epoch 22/50\n",
      "33/33 [==============================] - 4s 126ms/step - loss: 0.0369\n",
      "Epoch 23/50\n",
      "33/33 [==============================] - 4s 125ms/step - loss: 0.0706\n",
      "Epoch 24/50\n",
      "33/33 [==============================] - 4s 126ms/step - loss: 0.0415\n",
      "Epoch 25/50\n",
      "33/33 [==============================] - 4s 126ms/step - loss: 0.0496\n",
      "Epoch 26/50\n",
      "33/33 [==============================] - 4s 126ms/step - loss: 0.0531\n",
      "Epoch 27/50\n",
      "33/33 [==============================] - 4s 126ms/step - loss: 0.0363\n",
      "Epoch 28/50\n",
      "33/33 [==============================] - 4s 126ms/step - loss: 0.0394\n",
      "Epoch 29/50\n",
      "33/33 [==============================] - 4s 126ms/step - loss: 0.0272\n",
      "Epoch 30/50\n",
      "33/33 [==============================] - 4s 126ms/step - loss: 0.0377\n",
      "Epoch 31/50\n",
      "33/33 [==============================] - 4s 126ms/step - loss: 0.0289\n",
      "Epoch 32/50\n",
      "33/33 [==============================] - 4s 126ms/step - loss: 0.0343\n",
      "Epoch 33/50\n",
      "33/33 [==============================] - 4s 127ms/step - loss: 0.0396\n",
      "Epoch 34/50\n",
      "33/33 [==============================] - 4s 126ms/step - loss: 0.0420\n",
      "Epoch 35/50\n",
      "33/33 [==============================] - 4s 126ms/step - loss: 0.0362\n",
      "Epoch 36/50\n",
      "33/33 [==============================] - 4s 126ms/step - loss: 0.0337\n",
      "Epoch 37/50\n",
      "33/33 [==============================] - 4s 126ms/step - loss: 0.0298\n",
      "Epoch 38/50\n",
      "33/33 [==============================] - 4s 126ms/step - loss: 0.0207\n",
      "Epoch 39/50\n",
      "33/33 [==============================] - 4s 129ms/step - loss: 0.0289\n",
      "Epoch 40/50\n",
      "33/33 [==============================] - 4s 128ms/step - loss: 0.0447\n",
      "Epoch 41/50\n",
      "33/33 [==============================] - 4s 127ms/step - loss: 0.0308\n",
      "Epoch 42/50\n",
      "33/33 [==============================] - 4s 126ms/step - loss: 0.0423\n",
      "Epoch 43/50\n",
      "33/33 [==============================] - 4s 127ms/step - loss: 0.0352\n",
      "Epoch 44/50\n",
      "33/33 [==============================] - 4s 127ms/step - loss: 0.0311\n",
      "Epoch 45/50\n",
      "33/33 [==============================] - 4s 127ms/step - loss: 0.0387\n",
      "Epoch 46/50\n",
      "33/33 [==============================] - 4s 128ms/step - loss: 0.0277\n",
      "Epoch 47/50\n",
      "33/33 [==============================] - 4s 127ms/step - loss: 0.0382\n",
      "Epoch 48/50\n",
      "33/33 [==============================] - 4s 127ms/step - loss: 0.0322\n",
      "Epoch 49/50\n",
      "33/33 [==============================] - 4s 126ms/step - loss: 0.0277\n",
      "Epoch 50/50\n",
      "33/33 [==============================] - 4s 127ms/step - loss: 0.0275\n"
     ]
    },
    {
     "data": {
      "text/plain": [
       "<keras.callbacks.History at 0x177f383a0>"
      ]
     },
     "execution_count": 20,
     "metadata": {},
     "output_type": "execute_result"
    }
   ],
   "source": [
    "# fit model\n",
    "model.fit(generator,epochs=50)"
   ]
  },
  {
   "cell_type": "code",
   "execution_count": 21,
   "id": "re949VYGhNFo",
   "metadata": {
    "colab": {
     "base_uri": "https://localhost:8080/",
     "height": 282
    },
    "id": "re949VYGhNFo",
    "outputId": "a62f31f0-ec59-4fea-fc33-fc55aba56d9b"
   },
   "outputs": [
    {
     "data": {
      "text/plain": [
       "[<matplotlib.lines.Line2D at 0x17c908ac0>]"
      ]
     },
     "execution_count": 21,
     "metadata": {},
     "output_type": "execute_result"
    },
    {
     "data": {
      "image/png": "[encoded data removed]",
      "text/plain": [
       "<Figure size 432x288 with 1 Axes>"
      ]
     },
     "metadata": {
      "needs_background": "light"
     },
     "output_type": "display_data"
    }
   ],
   "source": [
    "# Vemos como se comportan la función de pérdida.\n",
    "\n",
    "loss_per_epoch = model.history.history['loss']\n",
    "plt.plot(range(len(loss_per_epoch)),loss_per_epoch)"
   ]
  },
  {
   "cell_type": "code",
   "execution_count": 22,
   "id": "Ljk87UWchUC3",
   "metadata": {
    "id": "Ljk87UWchUC3"
   },
   "outputs": [],
   "source": [
    "last_train_batch = scaled_train[-12:]"
   ]
  },
  {
   "cell_type": "code",
   "execution_count": 23,
   "id": "NKvQiE51hgzl",
   "metadata": {
    "id": "NKvQiE51hgzl"
   },
   "outputs": [],
   "source": [
    "last_train_batch = last_train_batch.reshape((1, n_input, n_features))\n"
   ]
  },
  {
   "cell_type": "code",
   "execution_count": 24,
   "id": "aajn0yb6hie3",
   "metadata": {
    "colab": {
     "base_uri": "https://localhost:8080/"
    },
    "id": "aajn0yb6hie3",
    "outputId": "52ae6ae1-28dd-4216-8c09-0ce2bbbb9f6c",
    "scrolled": true
   },
   "outputs": [
    {
     "name": "stderr",
     "output_type": "stream",
     "text": [
      "2021-11-21 16:33:14.950181: I tensorflow/core/grappler/optimizers/custom_graph_optimizer_registry.cc:112] Plugin optimizer for device_type GPU is enabled.\n"
     ]
    },
    {
     "data": {
      "text/plain": [
       "array([[0.21004003]], dtype=float32)"
      ]
     },
     "execution_count": 24,
     "metadata": {},
     "output_type": "execute_result"
    }
   ],
   "source": [
    "model.predict(last_train_batch)\n"
   ]
  },
  {
   "cell_type": "code",
   "execution_count": 25,
   "id": "SugrFxw8hj5S",
   "metadata": {
    "colab": {
     "base_uri": "https://localhost:8080/"
    },
    "id": "SugrFxw8hj5S",
    "outputId": "6da45a03-6ef4-4211-c001-bd409172e8a8"
   },
   "outputs": [
    {
     "data": {
      "text/plain": [
       "array([0.17241379])"
      ]
     },
     "execution_count": 25,
     "metadata": {},
     "output_type": "execute_result"
    }
   ],
   "source": [
    "scaled_test[0]"
   ]
  },
  {
   "cell_type": "code",
   "execution_count": 26,
   "id": "pq-8ZIPxhm0a",
   "metadata": {
    "id": "pq-8ZIPxhm0a"
   },
   "outputs": [],
   "source": [
    "test_predictions = []\n",
    "\n",
    "first_eval_batch = scaled_train[-n_input:]\n",
    "current_batch = first_eval_batch.reshape((1, n_input, n_features))\n",
    "\n",
    "for i in range(len(test)):\n",
    "    \n",
    "    # get the prediction value for the first batch\n",
    "    current_pred = model.predict(current_batch)[0]\n",
    "    \n",
    "    # append the prediction into the array\n",
    "    test_predictions.append(current_pred) \n",
    "    \n",
    "    # use the prediction to update the batch and remove the first value\n",
    "    current_batch = np.append(current_batch[:,1:,:],[[current_pred]],axis=1)\n",
    "    "
   ]
  },
  {
   "cell_type": "code",
   "execution_count": 27,
   "id": "Aqtk23OwhpL6",
   "metadata": {
    "colab": {
     "base_uri": "https://localhost:8080/"
    },
    "id": "Aqtk23OwhpL6",
    "outputId": "1105004c-706b-4518-c58d-4c5c1742dd22"
   },
   "outputs": [
    {
     "data": {
      "text/plain": [
       "[array([0.21004003], dtype=float32),\n",
       " array([0.20380789], dtype=float32),\n",
       " array([0.4484711], dtype=float32),\n",
       " array([0.5415763], dtype=float32),\n",
       " array([0.5987385], dtype=float32),\n",
       " array([0.5153538], dtype=float32),\n",
       " array([0.6046269], dtype=float32),\n",
       " array([0.5794902], dtype=float32),\n",
       " array([0.55396014], dtype=float32),\n",
       " array([0.418022], dtype=float32)]"
      ]
     },
     "execution_count": 27,
     "metadata": {},
     "output_type": "execute_result"
    }
   ],
   "source": [
    "test_predictions"
   ]
  },
  {
   "cell_type": "code",
   "execution_count": 28,
   "id": "3KohOBj6hq4z",
   "metadata": {
    "colab": {
     "base_uri": "https://localhost:8080/",
     "height": 235
    },
    "id": "3KohOBj6hq4z",
    "outputId": "6197a1e0-df38-4273-ed67-a58464ee929b"
   },
   "outputs": [
    {
     "data": {
      "text/html": [
       "<div>\n",
       "<style scoped>\n",
       "    .dataframe tbody tr th:only-of-type {\n",
       "        vertical-align: middle;\n",
       "    }\n",
       "\n",
       "    .dataframe tbody tr th {\n",
       "        vertical-align: top;\n",
       "    }\n",
       "\n",
       "    .dataframe thead th {\n",
       "        text-align: right;\n",
       "    }\n",
       "</style>\n",
       "<table border=\"1\" class=\"dataframe\">\n",
       "  <thead>\n",
       "    <tr style=\"text-align: right;\">\n",
       "      <th></th>\n",
       "      <th>precio_COP</th>\n",
       "    </tr>\n",
       "    <tr>\n",
       "      <th>Fecha</th>\n",
       "      <th></th>\n",
       "    </tr>\n",
       "  </thead>\n",
       "  <tbody>\n",
       "    <tr>\n",
       "      <th>2020-10-01</th>\n",
       "      <td>1600</td>\n",
       "    </tr>\n",
       "    <tr>\n",
       "      <th>2020-11-01</th>\n",
       "      <td>1400</td>\n",
       "    </tr>\n",
       "    <tr>\n",
       "      <th>2020-12-01</th>\n",
       "      <td>2500</td>\n",
       "    </tr>\n",
       "    <tr>\n",
       "      <th>2021-01-01</th>\n",
       "      <td>3100</td>\n",
       "    </tr>\n",
       "    <tr>\n",
       "      <th>2021-02-01</th>\n",
       "      <td>3000</td>\n",
       "    </tr>\n",
       "  </tbody>\n",
       "</table>\n",
       "</div>"
      ],
      "text/plain": [
       "            precio_COP\n",
       "Fecha                 \n",
       "2020-10-01        1600\n",
       "2020-11-01        1400\n",
       "2020-12-01        2500\n",
       "2021-01-01        3100\n",
       "2021-02-01        3000"
      ]
     },
     "execution_count": 28,
     "metadata": {},
     "output_type": "execute_result"
    }
   ],
   "source": [
    "test.head()"
   ]
  },
  {
   "cell_type": "code",
   "execution_count": 29,
   "id": "R506kjyUhtVH",
   "metadata": {
    "id": "R506kjyUhtVH"
   },
   "outputs": [],
   "source": [
    "true_predictions = scaler.inverse_transform(test_predictions)"
   ]
  },
  {
   "cell_type": "code",
   "execution_count": 30,
   "id": "q8MKiyXwh0iD",
   "metadata": {
    "colab": {
     "base_uri": "https://localhost:8080/"
    },
    "id": "q8MKiyXwh0iD",
    "outputId": "fd321d59-78ff-4c1c-da95-b1fcfe689490",
    "scrolled": true
   },
   "outputs": [
    {
     "name": "stderr",
     "output_type": "stream",
     "text": [
      "/var/folders/nc/q_wx5s2168v477f_1tb20rcr0000gn/T/ipykernel_4728/4269337381.py:1: SettingWithCopyWarning: \n",
      "A value is trying to be set on a copy of a slice from a DataFrame.\n",
      "Try using .loc[row_indexer,col_indexer] = value instead\n",
      "\n",
      "See the caveats in the documentation: https://pandas.pydata.org/pandas-docs/stable/user_guide/indexing.html#returning-a-view-versus-a-copy\n",
      "  test['Predictions'] = true_predictions\n"
     ]
    }
   ],
   "source": [
    "test['Predictions'] = true_predictions"
   ]
  },
  {
   "cell_type": "code",
   "execution_count": 31,
   "id": "c7LgmvnOh2Da",
   "metadata": {
    "colab": {
     "base_uri": "https://localhost:8080/",
     "height": 362
    },
    "id": "c7LgmvnOh2Da",
    "outputId": "fa8bbf97-c38b-4535-ddef-cf113218feef"
   },
   "outputs": [
    {
     "data": {
      "text/plain": [
       "<AxesSubplot:xlabel='Fecha'>"
      ]
     },
     "execution_count": 31,
     "metadata": {},
     "output_type": "execute_result"
    },
    {
     "data": {
      "image/png": "[encoded data removed]",
      "text/plain": [
       "<Figure size 1008x360 with 1 Axes>"
      ]
     },
     "metadata": {
      "needs_background": "light"
     },
     "output_type": "display_data"
    }
   ],
   "source": [
    "test.plot(figsize=(14,5))"
   ]
  },
  {
   "cell_type": "code",
   "execution_count": 32,
   "id": "ZIIn2Qhhh3z_",
   "metadata": {
    "colab": {
     "base_uri": "https://localhost:8080/"
    },
    "id": "ZIIn2Qhhh3z_",
    "outputId": "fc32dd17-0ff9-4296-ea4b-b84510488ffc"
   },
   "outputs": [
    {
     "name": "stdout",
     "output_type": "stream",
     "text": [
      "690.1642248048507\n"
     ]
    }
   ],
   "source": [
    "from sklearn.metrics import mean_squared_error\n",
    "from math import sqrt\n",
    "rmse=sqrt(mean_squared_error(test['precio_COP'],test['Predictions']))\n",
    "print(rmse)"
   ]
  },
  {
   "cell_type": "code",
   "execution_count": null,
   "id": "1a3c01db",
   "metadata": {},
   "outputs": [],
   "source": []
  }
 ],
 "metadata": {
  "colab": {
   "collapsed_sections": [],
   "name": "MandCod - Regresor de red neuronal RNN(LSTM).ipynb",
   "provenance": []
  },
  "kernelspec": {
   "display_name": "Python [conda env:tensorflow_env] *",
   "language": "python",
   "name": "conda-env-tensorflow_env-py"
  },
  "language_info": {
   "codemirror_mode": {
    "name": "ipython",
    "version": 3
   },
   "file_extension": ".py",
   "mimetype": "text/x-python",
   "name": "python",
   "nbconvert_exporter": "python",
   "pygments_lexer": "ipython3",
   "version": "3.9.7"
  }
 },
 "nbformat": 4,
 "nbformat_minor": 5
}
