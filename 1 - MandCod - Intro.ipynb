{
 "cells": [
  {
   "cell_type": "markdown",
   "id": "7eb430dc",
   "metadata": {},
   "source": [
    "# Introducción\n",
    "\n",
    "Cuando vamos realizar un proyecto de Machine Learning, es importante tener claro ciertos elementos si queremos aportar valor:\n",
    "\n",
    "Primero, definamos el problema: En el caso de este proyecto tenemos la siguiente situación: \"Mandarinas Campesinas\" es un negocio que todas las semanas compra mandarinas en el mercado de Medellín, para luego enviárselas a sus clientes a lo largo y ancho de la ciudad. Últimamente estan pensando en expandirse.... necesitan calcular costos.... porque estos son muy variables....\n",
    "\n",
    "Luego, entendamos los datos: Para nuestro problema únicamente contamos con los precios de la mandarina en la mayorista para.....\n",
    "\n",
    "Analizar los datos:\n"
   ]
  },
  {
   "cell_type": "markdown",
   "id": "bdda4b33",
   "metadata": {},
   "source": [
    "### Modelos a implementar de SERIES DE TIEMPO\n",
    "\n",
    "#### Algoritmos tradicionales\n",
    "\n",
    "##### Univariate\n",
    "- [x] ARIMA \n",
    "- [x] Prophet\n",
    "- [x] Neuronal Prophet\n",
    "\n",
    "#### Multivariate\n",
    "\n",
    "- [ ] Vector Autoregression (VAR)\n",
    "\n",
    "#### Algoritmos Machine Learning\n",
    "\n",
    "- [x] Regresor de red neuronal RNN(LSTM)\n",
    "\n",
    "**Algoritmos No-Lineales**:\n",
    "\n",
    "- [ ] k-Nearest Neighbors\n",
    "- [ ] Classification and Regression Tree\n",
    "- [ ] Support Vector Machine\n",
    "- [ ] Naive Bayes\n",
    "\n",
    "**Algoritmos de Ensamble**:\n",
    "\n",
    "- [ ] Bagged Decision Trees\n",
    "- [ ] Random Forest\n",
    "- [ ] Extra Trees\n",
    "- [ ] Gradient Boosting Machine\n"
   ]
  },
  {
   "cell_type": "code",
   "execution_count": null,
   "id": "8634408d",
   "metadata": {},
   "outputs": [],
   "source": []
  }
 ],
 "metadata": {
  "kernelspec": {
   "display_name": "Python 3 (ipykernel)",
   "language": "python",
   "name": "python3"
  },
  "language_info": {
   "codemirror_mode": {
    "name": "ipython",
    "version": 3
   },
   "file_extension": ".py",
   "mimetype": "text/x-python",
   "name": "python",
   "nbconvert_exporter": "python",
   "pygments_lexer": "ipython3",
   "version": "3.9.6"
  }
 },
 "nbformat": 4,
 "nbformat_minor": 5
}
