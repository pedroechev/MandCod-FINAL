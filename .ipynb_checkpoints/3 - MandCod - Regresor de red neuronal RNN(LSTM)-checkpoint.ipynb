{
 "cells": [
  {
   "cell_type": "code",
   "execution_count": 1,
   "id": "38e4b71b",
   "metadata": {
    "id": "38e4b71b"
   },
   "outputs": [],
   "source": [
    "import pandas as pd\n",
    "import numpy as np\n",
    "import matplotlib.pyplot as plt"
   ]
  },
  {
   "cell_type": "code",
   "execution_count": 2,
   "id": "2ae8b322",
   "metadata": {},
   "outputs": [
    {
     "data": {
      "text/html": [
       "<div>\n",
       "<style scoped>\n",
       "    .dataframe tbody tr th:only-of-type {\n",
       "        vertical-align: middle;\n",
       "    }\n",
       "\n",
       "    .dataframe tbody tr th {\n",
       "        vertical-align: top;\n",
       "    }\n",
       "\n",
       "    .dataframe thead th {\n",
       "        text-align: right;\n",
       "    }\n",
       "</style>\n",
       "<table border=\"1\" class=\"dataframe\">\n",
       "  <thead>\n",
       "    <tr style=\"text-align: right;\">\n",
       "      <th></th>\n",
       "      <th>Promedio de precio mensual mayorista</th>\n",
       "    </tr>\n",
       "    <tr>\n",
       "      <th>Fecha</th>\n",
       "      <th></th>\n",
       "    </tr>\n",
       "  </thead>\n",
       "  <tbody>\n",
       "    <tr>\n",
       "      <th>2017-01-01</th>\n",
       "      <td>2500</td>\n",
       "    </tr>\n",
       "    <tr>\n",
       "      <th>2017-02-01</th>\n",
       "      <td>3375</td>\n",
       "    </tr>\n",
       "    <tr>\n",
       "      <th>2017-03-01</th>\n",
       "      <td>3075</td>\n",
       "    </tr>\n",
       "    <tr>\n",
       "      <th>2017-04-01</th>\n",
       "      <td>2650</td>\n",
       "    </tr>\n",
       "    <tr>\n",
       "      <th>2017-05-01</th>\n",
       "      <td>2450</td>\n",
       "    </tr>\n",
       "  </tbody>\n",
       "</table>\n",
       "</div>"
      ],
      "text/plain": [
       "            Promedio de precio mensual mayorista\n",
       "Fecha                                           \n",
       "2017-01-01                                  2500\n",
       "2017-02-01                                  3375\n",
       "2017-03-01                                  3075\n",
       "2017-04-01                                  2650\n",
       "2017-05-01                                  2450"
      ]
     },
     "execution_count": 2,
     "metadata": {},
     "output_type": "execute_result"
    }
   ],
   "source": [
    "path = 'Datos/Precios Mandarina Oneco.xlsx'\n",
    "\n",
    "df = pd.read_excel(path,\n",
    "              index_col='Fecha',\n",
    "              parse_dates=True\n",
    "             )\n",
    "df.index.freq='MS'\n",
    "\n",
    "\n",
    "df.head()"
   ]
  },
  {
   "cell_type": "code",
   "execution_count": 3,
   "id": "3dc938e2",
   "metadata": {
    "colab": {
     "base_uri": "https://localhost:8080/",
     "height": 235
    },
    "id": "3dc938e2",
    "outputId": "31ad31bc-8bb5-4f1a-ee35-2798957a91cf"
   },
   "outputs": [
    {
     "data": {
      "text/html": [
       "<div>\n",
       "<style scoped>\n",
       "    .dataframe tbody tr th:only-of-type {\n",
       "        vertical-align: middle;\n",
       "    }\n",
       "\n",
       "    .dataframe tbody tr th {\n",
       "        vertical-align: top;\n",
       "    }\n",
       "\n",
       "    .dataframe thead th {\n",
       "        text-align: right;\n",
       "    }\n",
       "</style>\n",
       "<table border=\"1\" class=\"dataframe\">\n",
       "  <thead>\n",
       "    <tr style=\"text-align: right;\">\n",
       "      <th></th>\n",
       "      <th>precio_COP</th>\n",
       "    </tr>\n",
       "    <tr>\n",
       "      <th>Fecha</th>\n",
       "      <th></th>\n",
       "    </tr>\n",
       "  </thead>\n",
       "  <tbody>\n",
       "    <tr>\n",
       "      <th>2017-01-01</th>\n",
       "      <td>2500</td>\n",
       "    </tr>\n",
       "    <tr>\n",
       "      <th>2017-02-01</th>\n",
       "      <td>3375</td>\n",
       "    </tr>\n",
       "    <tr>\n",
       "      <th>2017-03-01</th>\n",
       "      <td>3075</td>\n",
       "    </tr>\n",
       "    <tr>\n",
       "      <th>2017-04-01</th>\n",
       "      <td>2650</td>\n",
       "    </tr>\n",
       "    <tr>\n",
       "      <th>2017-05-01</th>\n",
       "      <td>2450</td>\n",
       "    </tr>\n",
       "  </tbody>\n",
       "</table>\n",
       "</div>"
      ],
      "text/plain": [
       "            precio_COP\n",
       "Fecha                 \n",
       "2017-01-01        2500\n",
       "2017-02-01        3375\n",
       "2017-03-01        3075\n",
       "2017-04-01        2650\n",
       "2017-05-01        2450"
      ]
     },
     "execution_count": 3,
     "metadata": {},
     "output_type": "execute_result"
    }
   ],
   "source": [
    "# Defino Variables\n",
    "\n",
    "df.rename(columns = {'Promedio de precio mensual mayorista': 'precio_COP'}, inplace = True)\n",
    "df.head()"
   ]
  },
  {
   "cell_type": "code",
   "execution_count": 4,
   "id": "2813c326",
   "metadata": {
    "colab": {
     "base_uri": "https://localhost:8080/",
     "height": 405
    },
    "id": "2813c326",
    "outputId": "9c58f97e-4530-438d-ccdb-d9e7fa92e83b",
    "scrolled": false
   },
   "outputs": [
    {
     "data": {
      "text/plain": [
       "<AxesSubplot:xlabel='Fecha'>"
      ]
     },
     "execution_count": 4,
     "metadata": {},
     "output_type": "execute_result"
    },
    {
     "data": {
      "image/png": "[encoded data removed]",
      "text/plain": [
       "<Figure size 864x432 with 1 Axes>"
      ]
     },
     "metadata": {
      "needs_background": "light"
     },
     "output_type": "display_data"
    }
   ],
   "source": [
    "df.plot(figsize=(12,6))"
   ]
  },
  {
   "cell_type": "code",
   "execution_count": 5,
   "id": "8dabd211",
   "metadata": {
    "colab": {
     "base_uri": "https://localhost:8080/"
    },
    "id": "8dabd211",
    "outputId": "7dccfba8-0546-406e-c354-e2fad478bc71"
   },
   "outputs": [],
   "source": [
    "from statsmodels.tsa.seasonal import seasonal_decompose"
   ]
  },
  {
   "cell_type": "code",
   "execution_count": 6,
   "id": "52dc2596",
   "metadata": {
    "colab": {
     "base_uri": "https://localhost:8080/",
     "height": 297
    },
    "id": "52dc2596",
    "outputId": "8210e5ef-d521-4c77-e89a-a42d922eab21"
   },
   "outputs": [
    {
     "data": {
      "image/png": "[encoded data removed]",
      "text/plain": [
       "<Figure size 432x288 with 4 Axes>"
      ]
     },
     "metadata": {
      "needs_background": "light"
     },
     "output_type": "display_data"
    }
   ],
   "source": [
    "results = seasonal_decompose(df['precio_COP'])\n",
    "results.plot();"
   ]
  },
  {
   "cell_type": "markdown",
   "id": "4f09a614",
   "metadata": {
    "id": "4f09a614"
   },
   "source": [
    "No vamos a convertir la serie en estacionaria porque en teoría las predicciones de RNN se pueden adaptar a este patrón, y a diferentes tipos de patrones complejos, que otros modelos más simples no adaptarían."
   ]
  },
  {
   "cell_type": "code",
   "execution_count": 7,
   "id": "3409680a",
   "metadata": {
    "colab": {
     "base_uri": "https://localhost:8080/"
    },
    "id": "3409680a",
    "outputId": "0244f7e2-6863-4e7a-b7a1-958b903f2046",
    "scrolled": true
   },
   "outputs": [
    {
     "data": {
      "text/plain": [
       "55"
      ]
     },
     "execution_count": 7,
     "metadata": {},
     "output_type": "execute_result"
    }
   ],
   "source": [
    "len(df)"
   ]
  },
  {
   "cell_type": "code",
   "execution_count": 8,
   "id": "6749728a",
   "metadata": {
    "id": "6749728a"
   },
   "outputs": [
    {
     "name": "stdout",
     "output_type": "stream",
     "text": [
      "(45, 1) (10, 1)\n"
     ]
    }
   ],
   "source": [
    "train = df.iloc[:45] \n",
    "#La parte de entrenamiento van a ser todos los datos excepto últimos 10 meses\n",
    "\n",
    "test =df.iloc[45:]\n",
    "\n",
    "print(train.shape,test.shape)\n"
   ]
  },
  {
   "cell_type": "code",
   "execution_count": 9,
   "id": "4d4101f6",
   "metadata": {
    "id": "4d4101f6"
   },
   "outputs": [],
   "source": [
    "from sklearn.preprocessing import MinMaxScaler\n",
    "scaler = MinMaxScaler()\n",
    "\n",
    "# Con esta herramienta, convertimos la serie en una escala de 0 a 1\n",
    "\n"
   ]
  },
  {
   "cell_type": "code",
   "execution_count": 10,
   "id": "27c922f3",
   "metadata": {
    "colab": {
     "base_uri": "https://localhost:8080/"
    },
    "id": "27c922f3",
    "outputId": "38ee3869-6578-4ed0-f498-cdfd133c4650",
    "scrolled": true
   },
   "outputs": [
    {
     "data": {
      "text/plain": [
       "(            precio_COP\n",
       " Fecha                 \n",
       " 2017-01-01        2500\n",
       " 2017-02-01        3375\n",
       " 2017-03-01        3075\n",
       " 2017-04-01        2650\n",
       " 2017-05-01        2450,\n",
       "             precio_COP\n",
       " Fecha                 \n",
       " 2021-03-01        2400\n",
       " 2021-04-01        2000\n",
       " 2021-05-01        2600\n",
       " 2021-06-01        3600\n",
       " 2021-07-01        4000)"
      ]
     },
     "execution_count": 10,
     "metadata": {},
     "output_type": "execute_result"
    }
   ],
   "source": [
    "df.head(),df.tail() #Vemos como son los datos."
   ]
  },
  {
   "cell_type": "code",
   "execution_count": 11,
   "id": "d7c6f9bb",
   "metadata": {
    "colab": {
     "base_uri": "https://localhost:8080/"
    },
    "id": "d7c6f9bb",
    "outputId": "8395b192-44bd-4342-a4d1-db5144d451c5",
    "scrolled": true
   },
   "outputs": [
    {
     "data": {
      "text/plain": [
       "array([[0.48275862],\n",
       "       [0.78448276],\n",
       "       [0.68103448],\n",
       "       [0.53448276],\n",
       "       [0.46551724],\n",
       "       [0.40517241],\n",
       "       [0.52586207],\n",
       "       [0.37931034],\n",
       "       [0.13793103],\n",
       "       [0.0862069 ]])"
      ]
     },
     "execution_count": 11,
     "metadata": {},
     "output_type": "execute_result"
    }
   ],
   "source": [
    "# Tranformamos la serie de entrenamiento y testeo\n",
    "# Vemos como quedan los primeros 10 datos de entrenamiento.\n",
    "\n",
    "scaler.fit(train)\n",
    "scaled_train = scaler.transform(train)\n",
    "scaled_test = scaler.transform(test)\n",
    "scaled_train[:10]"
   ]
  },
  {
   "cell_type": "code",
   "execution_count": 12,
   "id": "6b6e83ff",
   "metadata": {
    "id": "6b6e83ff"
   },
   "outputs": [
    {
     "name": "stdout",
     "output_type": "stream",
     "text": [
      "Init Plugin\n",
      "Init Graph Optimizer\n",
      "Init Kernel\n"
     ]
    }
   ],
   "source": [
    "from keras.preprocessing.sequence import TimeseriesGenerator"
   ]
  },
  {
   "cell_type": "code",
   "execution_count": 13,
   "id": "CjoJOhANhAlb",
   "metadata": {
    "id": "CjoJOhANhAlb"
   },
   "outputs": [],
   "source": [
    "from keras.models import Sequential\n",
    "from keras.layers import Dense\n",
    "from keras.layers import LSTM"
   ]
  },
  {
   "cell_type": "code",
   "execution_count": 14,
   "id": "9340ba20",
   "metadata": {
    "id": "9340ba20"
   },
   "outputs": [],
   "source": [
    "# LSTM usa secuencias de datos para entrenarse \n",
    "# Definimos generador\n",
    "# Al estar hablando de modelos supervisados, debemos decirle al modelo cuales son los input y cuales son los output\n",
    "\n",
    "\n",
    "n_input = 12 # Este número son los meses de \"entrenemiento\"\n",
    "n_features = 1 # Este es el número de series implementadas, en este caso solo es una (Precio_COP)\n",
    "\n",
    "generator = TimeseriesGenerator(scaled_train,\n",
    "                                scaled_train,\n",
    "                                length=n_input,\n",
    "                                batch_size=1)\n"
   ]
  },
  {
   "cell_type": "code",
   "execution_count": 15,
   "id": "c6f2b198",
   "metadata": {
    "scrolled": true
   },
   "outputs": [
    {
     "name": "stdout",
     "output_type": "stream",
     "text": [
      "Metal device set to: Apple M1\n",
      "WARNING:tensorflow:Layer lstm will not use cuDNN kernels since it doesn't meet the criteria. It will use a generic GPU kernel as fallback when running on GPU.\n",
      "WARNING:tensorflow:Layer lstm_1 will not use cuDNN kernels since it doesn't meet the criteria. It will use a generic GPU kernel as fallback when running on GPU.\n",
      "WARNING:tensorflow:Layer lstm_2 will not use cuDNN kernels since it doesn't meet the criteria. It will use a generic GPU kernel as fallback when running on GPU.\n",
      "Model: \"sequential\"\n",
      "_________________________________________________________________\n",
      "Layer (type)                 Output Shape              Param #   \n",
      "=================================================================\n",
      "lstm (LSTM)                  (None, 12, 128)           66560     \n",
      "_________________________________________________________________\n",
      "lstm_1 (LSTM)                (None, 12, 128)           131584    \n",
      "_________________________________________________________________\n",
      "lstm_2 (LSTM)                (None, 128)               131584    \n",
      "_________________________________________________________________\n",
      "dense (Dense)                (None, 1)                 129       \n",
      "=================================================================\n",
      "Total params: 329,857\n",
      "Trainable params: 329,857\n",
      "Non-trainable params: 0\n",
      "_________________________________________________________________\n"
     ]
    },
    {
     "name": "stderr",
     "output_type": "stream",
     "text": [
      "2021-11-22 16:04:46.045274: I tensorflow/core/common_runtime/pluggable_device/pluggable_device_factory.cc:305] Could not identify NUMA node of platform GPU ID 0, defaulting to 0. Your kernel may not have been built with NUMA support.\n",
      "2021-11-22 16:04:46.045681: I tensorflow/core/common_runtime/pluggable_device/pluggable_device_factory.cc:271] Created TensorFlow device (/job:localhost/replica:0/task:0/device:GPU:0 with 0 MB memory) -> physical PluggableDevice (device: 0, name: METAL, pci bus id: <undefined>)\n"
     ]
    }
   ],
   "source": [
    "model = Sequential()\n",
    "\n",
    "model.add(LSTM(128,activation = 'relu', input_shape= (n_input, n_features), return_sequences=True))\n",
    "model.add(LSTM(128, activation='relu', return_sequences=True))\n",
    "model.add(LSTM(128, activation='relu', return_sequences=False))\n",
    "model.add(Dense(1))\n",
    "model.compile(optimizer='adam', loss='mse')\n",
    "\n",
    "model.summary()"
   ]
  },
  {
   "cell_type": "code",
   "execution_count": 16,
   "id": "645f276d",
   "metadata": {},
   "outputs": [
    {
     "name": "stdout",
     "output_type": "stream",
     "text": [
      "Epoch 1/50\n"
     ]
    },
    {
     "name": "stderr",
     "output_type": "stream",
     "text": [
      "/Users/pedroecheverri/miniforge3/envs/tensorflow_env/lib/python3.9/site-packages/keras/engine/training.py:1915: UserWarning: `Model.fit_generator` is deprecated and will be removed in a future version. Please use `Model.fit`, which supports generators.\n",
      "  warnings.warn('`Model.fit_generator` is deprecated and '\n",
      "2021-11-22 16:04:46.222997: I tensorflow/compiler/mlir/mlir_graph_optimization_pass.cc:176] None of the MLIR Optimization Passes are enabled (registered 2)\n",
      "2021-11-22 16:04:46.224366: W tensorflow/core/platform/profile_utils/cpu_utils.cc:128] Failed to get CPU frequency: 0 Hz\n",
      "2021-11-22 16:04:55.848917: I tensorflow/core/grappler/optimizers/custom_graph_optimizer_registry.cc:112] Plugin optimizer for device_type GPU is enabled.\n"
     ]
    },
    {
     "name": "stdout",
     "output_type": "stream",
     "text": [
      "33/33 [==============================] - 24s 429ms/step - loss: 0.1523\n",
      "Epoch 2/50\n",
      "33/33 [==============================] - 14s 428ms/step - loss: 0.0874\n",
      "Epoch 3/50\n",
      "33/33 [==============================] - 14s 428ms/step - loss: 0.0498\n",
      "Epoch 4/50\n",
      "33/33 [==============================] - 14s 428ms/step - loss: 0.0492\n",
      "Epoch 5/50\n",
      "33/33 [==============================] - 14s 429ms/step - loss: 0.0791\n",
      "Epoch 6/50\n",
      "33/33 [==============================] - 14s 429ms/step - loss: 0.0734\n",
      "Epoch 7/50\n",
      "33/33 [==============================] - 14s 429ms/step - loss: 0.0436\n",
      "Epoch 8/50\n",
      "33/33 [==============================] - 14s 429ms/step - loss: 0.0537\n",
      "Epoch 9/50\n",
      "33/33 [==============================] - 14s 428ms/step - loss: 0.0532\n",
      "Epoch 10/50\n",
      "33/33 [==============================] - 14s 428ms/step - loss: 0.0466\n",
      "Epoch 11/50\n",
      "33/33 [==============================] - 14s 429ms/step - loss: 0.0417\n",
      "Epoch 12/50\n",
      "33/33 [==============================] - 14s 435ms/step - loss: 0.0751\n",
      "Epoch 13/50\n",
      "33/33 [==============================] - 14s 428ms/step - loss: 0.0633\n",
      "Epoch 14/50\n",
      "33/33 [==============================] - 14s 429ms/step - loss: 0.0462\n",
      "Epoch 15/50\n",
      "33/33 [==============================] - 14s 429ms/step - loss: 0.0447\n",
      "Epoch 16/50\n",
      "33/33 [==============================] - 14s 429ms/step - loss: 0.0384\n",
      "Epoch 17/50\n",
      "33/33 [==============================] - 14s 428ms/step - loss: 0.0822\n",
      "Epoch 18/50\n",
      "33/33 [==============================] - 14s 438ms/step - loss: 0.0535\n",
      "Epoch 19/50\n",
      "33/33 [==============================] - 14s 430ms/step - loss: 0.0427\n",
      "Epoch 20/50\n",
      "33/33 [==============================] - 14s 429ms/step - loss: 0.0738\n",
      "Epoch 21/50\n",
      "33/33 [==============================] - 14s 429ms/step - loss: 0.0621\n",
      "Epoch 22/50\n",
      "33/33 [==============================] - 14s 429ms/step - loss: 0.0567\n",
      "Epoch 23/50\n",
      "33/33 [==============================] - 14s 429ms/step - loss: 0.0338\n",
      "Epoch 24/50\n",
      "33/33 [==============================] - 14s 429ms/step - loss: 0.0391\n",
      "Epoch 25/50\n",
      "33/33 [==============================] - 14s 428ms/step - loss: 0.0343\n",
      "Epoch 26/50\n",
      "33/33 [==============================] - 14s 429ms/step - loss: 0.0697\n",
      "Epoch 27/50\n",
      "33/33 [==============================] - 14s 429ms/step - loss: 0.0433\n",
      "Epoch 28/50\n",
      "33/33 [==============================] - 14s 429ms/step - loss: 0.0399\n",
      "Epoch 29/50\n",
      "33/33 [==============================] - 14s 429ms/step - loss: 0.0377\n",
      "Epoch 30/50\n",
      "33/33 [==============================] - 14s 429ms/step - loss: 0.0407\n",
      "Epoch 31/50\n",
      "33/33 [==============================] - 14s 429ms/step - loss: 0.0393\n",
      "Epoch 32/50\n",
      "33/33 [==============================] - 14s 429ms/step - loss: 0.0264\n",
      "Epoch 33/50\n",
      "33/33 [==============================] - 14s 429ms/step - loss: 0.0251\n",
      "Epoch 34/50\n",
      "33/33 [==============================] - 14s 429ms/step - loss: 0.0329\n",
      "Epoch 35/50\n",
      "33/33 [==============================] - 14s 429ms/step - loss: 0.0359\n",
      "Epoch 36/50\n",
      "33/33 [==============================] - 14s 429ms/step - loss: 0.0493\n",
      "Epoch 37/50\n",
      "33/33 [==============================] - 14s 429ms/step - loss: 0.0310\n",
      "Epoch 38/50\n",
      "33/33 [==============================] - 14s 429ms/step - loss: 0.0293\n",
      "Epoch 39/50\n",
      "33/33 [==============================] - 14s 429ms/step - loss: 0.0222\n",
      "Epoch 40/50\n",
      "33/33 [==============================] - 14s 427ms/step - loss: 0.0285\n",
      "Epoch 41/50\n",
      "33/33 [==============================] - 14s 431ms/step - loss: 0.0253\n",
      "Epoch 42/50\n",
      "33/33 [==============================] - 14s 429ms/step - loss: 0.0315\n",
      "Epoch 43/50\n",
      "33/33 [==============================] - 14s 428ms/step - loss: 0.0322\n",
      "Epoch 44/50\n",
      "33/33 [==============================] - 14s 428ms/step - loss: 0.0319\n",
      "Epoch 45/50\n",
      "33/33 [==============================] - 14s 427ms/step - loss: 0.0327\n",
      "Epoch 46/50\n",
      "33/33 [==============================] - 14s 427ms/step - loss: 0.0372\n",
      "Epoch 47/50\n",
      "33/33 [==============================] - 14s 427ms/step - loss: 0.0257\n",
      "Epoch 48/50\n",
      "33/33 [==============================] - 14s 428ms/step - loss: 0.0295\n",
      "Epoch 49/50\n",
      "33/33 [==============================] - 14s 427ms/step - loss: 0.0215\n",
      "Epoch 50/50\n",
      "33/33 [==============================] - 14s 428ms/step - loss: 0.0185\n"
     ]
    },
    {
     "data": {
      "text/plain": [
       "<keras.callbacks.History at 0x147f3bc40>"
      ]
     },
     "execution_count": 16,
     "metadata": {},
     "output_type": "execute_result"
    }
   ],
   "source": [
    "model.fit_generator(generator,epochs= 50)"
   ]
  },
  {
   "cell_type": "code",
   "execution_count": 17,
   "id": "re949VYGhNFo",
   "metadata": {
    "colab": {
     "base_uri": "https://localhost:8080/",
     "height": 282
    },
    "id": "re949VYGhNFo",
    "outputId": "a62f31f0-ec59-4fea-fc33-fc55aba56d9b"
   },
   "outputs": [
    {
     "data": {
      "text/plain": [
       "[<matplotlib.lines.Line2D at 0x17d6a03a0>]"
      ]
     },
     "execution_count": 17,
     "metadata": {},
     "output_type": "execute_result"
    },
    {
     "data": {
      "image/png": "[encoded data removed]",
      "text/plain": [
       "<Figure size 432x288 with 1 Axes>"
      ]
     },
     "metadata": {
      "needs_background": "light"
     },
     "output_type": "display_data"
    }
   ],
   "source": [
    "# Vemos como se comportan la función de pérdida.\n",
    "\n",
    "my_loss= model.history.history['loss']\n",
    "plt.plot(range(len(my_loss)),my_loss)"
   ]
  },
  {
   "cell_type": "code",
   "execution_count": 18,
   "id": "d4251fef",
   "metadata": {},
   "outputs": [
    {
     "name": "stderr",
     "output_type": "stream",
     "text": [
      "2021-11-22 16:16:45.345195: I tensorflow/core/grappler/optimizers/custom_graph_optimizer_registry.cc:112] Plugin optimizer for device_type GPU is enabled.\n"
     ]
    },
    {
     "data": {
      "text/plain": [
       "array([[0.1590434]], dtype=float32)"
      ]
     },
     "execution_count": 18,
     "metadata": {},
     "output_type": "execute_result"
    }
   ],
   "source": [
    "first_eval_batch = scaled_train[-12:]\n",
    "first_eval_batch = first_eval_batch.reshape((1,n_input,n_features))\n",
    "model.predict(first_eval_batch)"
   ]
  },
  {
   "cell_type": "code",
   "execution_count": 19,
   "id": "3766cbe1",
   "metadata": {},
   "outputs": [],
   "source": [
    "test_predictions = []\n",
    "\n",
    "first_eval_batch = scaled_train[-n_input:]\n",
    "\n",
    "current_batch = first_eval_batch.reshape((1,n_input,n_features))\n",
    "\n",
    "for i in range(len(test)):\n",
    "    \n",
    "    current_pred = model.predict(current_batch)[0]\n",
    "\n",
    "    test_predictions.append(current_pred)\n",
    "\n",
    "    current_batch = np.append(current_batch[:,1:,:],[[current_pred]], axis= 1)"
   ]
  },
  {
   "cell_type": "code",
   "execution_count": 20,
   "id": "fcbe4bd2",
   "metadata": {
    "scrolled": false
   },
   "outputs": [
    {
     "data": {
      "text/plain": [
       "[array([0.1590434], dtype=float32),\n",
       " array([0.1225109], dtype=float32),\n",
       " array([0.2621861], dtype=float32),\n",
       " array([0.42167947], dtype=float32),\n",
       " array([0.50429183], dtype=float32),\n",
       " array([0.45031363], dtype=float32),\n",
       " array([0.5727191], dtype=float32),\n",
       " array([0.56890756], dtype=float32),\n",
       " array([0.5554151], dtype=float32),\n",
       " array([0.35607234], dtype=float32)]"
      ]
     },
     "execution_count": 20,
     "metadata": {},
     "output_type": "execute_result"
    }
   ],
   "source": [
    "test_predictions"
   ]
  },
  {
   "cell_type": "code",
   "execution_count": 21,
   "id": "0d67bb18",
   "metadata": {
    "scrolled": true
   },
   "outputs": [
    {
     "data": {
      "text/plain": [
       "array([[1561.22586429],\n",
       "       [1455.28159589],\n",
       "       [1860.33971906],\n",
       "       [2322.87045419],\n",
       "       [2562.4463141 ],\n",
       "       [2405.90952039],\n",
       "       [2760.8853817 ],\n",
       "       [2749.83192086],\n",
       "       [2710.70377231],\n",
       "       [2132.60977566]])"
      ]
     },
     "execution_count": 21,
     "metadata": {},
     "output_type": "execute_result"
    }
   ],
   "source": [
    "true_predictions = scaler.inverse_transform(test_predictions)\n",
    "true_predictions\n"
   ]
  },
  {
   "cell_type": "code",
   "execution_count": 22,
   "id": "9d611aea",
   "metadata": {},
   "outputs": [
    {
     "name": "stderr",
     "output_type": "stream",
     "text": [
      "/var/folders/nc/q_wx5s2168v477f_1tb20rcr0000gn/T/ipykernel_903/546410347.py:1: SettingWithCopyWarning: \n",
      "A value is trying to be set on a copy of a slice from a DataFrame.\n",
      "Try using .loc[row_indexer,col_indexer] = value instead\n",
      "\n",
      "See the caveats in the documentation: https://pandas.pydata.org/pandas-docs/stable/user_guide/indexing.html#returning-a-view-versus-a-copy\n",
      "  test['Predictions'] =true_predictions\n"
     ]
    },
    {
     "data": {
      "text/html": [
       "<div>\n",
       "<style scoped>\n",
       "    .dataframe tbody tr th:only-of-type {\n",
       "        vertical-align: middle;\n",
       "    }\n",
       "\n",
       "    .dataframe tbody tr th {\n",
       "        vertical-align: top;\n",
       "    }\n",
       "\n",
       "    .dataframe thead th {\n",
       "        text-align: right;\n",
       "    }\n",
       "</style>\n",
       "<table border=\"1\" class=\"dataframe\">\n",
       "  <thead>\n",
       "    <tr style=\"text-align: right;\">\n",
       "      <th></th>\n",
       "      <th>precio_COP</th>\n",
       "      <th>Predictions</th>\n",
       "    </tr>\n",
       "    <tr>\n",
       "      <th>Fecha</th>\n",
       "      <th></th>\n",
       "      <th></th>\n",
       "    </tr>\n",
       "  </thead>\n",
       "  <tbody>\n",
       "    <tr>\n",
       "      <th>2020-10-01</th>\n",
       "      <td>1600</td>\n",
       "      <td>1561.225864</td>\n",
       "    </tr>\n",
       "    <tr>\n",
       "      <th>2020-11-01</th>\n",
       "      <td>1400</td>\n",
       "      <td>1455.281596</td>\n",
       "    </tr>\n",
       "    <tr>\n",
       "      <th>2020-12-01</th>\n",
       "      <td>2500</td>\n",
       "      <td>1860.339719</td>\n",
       "    </tr>\n",
       "    <tr>\n",
       "      <th>2021-01-01</th>\n",
       "      <td>3100</td>\n",
       "      <td>2322.870454</td>\n",
       "    </tr>\n",
       "    <tr>\n",
       "      <th>2021-02-01</th>\n",
       "      <td>3000</td>\n",
       "      <td>2562.446314</td>\n",
       "    </tr>\n",
       "  </tbody>\n",
       "</table>\n",
       "</div>"
      ],
      "text/plain": [
       "            precio_COP  Predictions\n",
       "Fecha                              \n",
       "2020-10-01        1600  1561.225864\n",
       "2020-11-01        1400  1455.281596\n",
       "2020-12-01        2500  1860.339719\n",
       "2021-01-01        3100  2322.870454\n",
       "2021-02-01        3000  2562.446314"
      ]
     },
     "execution_count": 22,
     "metadata": {},
     "output_type": "execute_result"
    }
   ],
   "source": [
    "test['Predictions'] =true_predictions\n",
    "test.head()"
   ]
  },
  {
   "cell_type": "code",
   "execution_count": 23,
   "id": "39327da5",
   "metadata": {},
   "outputs": [
    {
     "data": {
      "text/plain": [
       "<AxesSubplot:xlabel='Fecha'>"
      ]
     },
     "execution_count": 23,
     "metadata": {},
     "output_type": "execute_result"
    },
    {
     "data": {
      "image/png": "[encoded data removed]",
      "text/plain": [
       "<Figure size 864x576 with 1 Axes>"
      ]
     },
     "metadata": {
      "needs_background": "light"
     },
     "output_type": "display_data"
    }
   ],
   "source": [
    "test.plot(figsize=(12,8))"
   ]
  },
  {
   "cell_type": "code",
   "execution_count": 24,
   "id": "aec08879",
   "metadata": {},
   "outputs": [
    {
     "name": "stdout",
     "output_type": "stream",
     "text": [
      "780.2905512717387\n"
     ]
    }
   ],
   "source": [
    "from sklearn.metrics import mean_squared_error\n",
    "from math import sqrt\n",
    "rmse=sqrt(mean_squared_error(test['precio_COP'],test['Predictions']))\n",
    "print(rmse)"
   ]
  }
 ],
 "metadata": {
  "colab": {
   "collapsed_sections": [],
   "name": "MandCod - Regresor de red neuronal RNN(LSTM).ipynb",
   "provenance": []
  },
  "kernelspec": {
   "display_name": "Python [conda env:tensorflow_env] *",
   "language": "python",
   "name": "conda-env-tensorflow_env-py"
  },
  "language_info": {
   "codemirror_mode": {
    "name": "ipython",
    "version": 3
   },
   "file_extension": ".py",
   "mimetype": "text/x-python",
   "name": "python",
   "nbconvert_exporter": "python",
   "pygments_lexer": "ipython3",
   "version": "3.9.7"
  }
 },
 "nbformat": 4,
 "nbformat_minor": 5
}
